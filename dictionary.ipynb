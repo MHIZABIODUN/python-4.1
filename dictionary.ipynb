{
 "cells": [
  {
   "cell_type": "code",
   "execution_count": 13,
   "metadata": {},
   "outputs": [
    {
     "ename": "KeyError",
     "evalue": "'FirstName'",
     "output_type": "error",
     "traceback": [
      "\u001b[1;31m---------------------------------------------------------------------------\u001b[0m",
      "\u001b[1;31mKeyError\u001b[0m                                  Traceback (most recent call last)",
      "Cell \u001b[1;32mIn[13], line 10\u001b[0m\n\u001b[0;32m      1\u001b[0m clientData \u001b[38;5;241m=\u001b[39m {\n\u001b[0;32m      2\u001b[0m     \u001b[38;5;124m'\u001b[39m\u001b[38;5;124mFirstNAme\u001b[39m\u001b[38;5;124m'\u001b[39m : \u001b[38;5;124m\"\u001b[39m\u001b[38;5;124mAbiola\u001b[39m\u001b[38;5;124m\"\u001b[39m,\n\u001b[0;32m      3\u001b[0m     \u001b[38;5;124m'\u001b[39m\u001b[38;5;124mlastName\u001b[39m\u001b[38;5;124m'\u001b[39m : \u001b[38;5;124m\"\u001b[39m\u001b[38;5;124mLukmon\u001b[39m\u001b[38;5;124m\"\u001b[39m,\n\u001b[1;32m   (...)\u001b[0m\n\u001b[0;32m      7\u001b[0m     \u001b[38;5;124m'\u001b[39m\u001b[38;5;124mdob\u001b[39m\u001b[38;5;124m'\u001b[39m : \u001b[38;5;124m'\u001b[39m\u001b[38;5;124m25-06-1992\u001b[39m\u001b[38;5;124m'\u001b[39m\n\u001b[0;32m      8\u001b[0m }\n\u001b[1;32m---> 10\u001b[0m \u001b[38;5;28mprint\u001b[39m(clientData[\u001b[38;5;124m'\u001b[39m\u001b[38;5;124mFirstName\u001b[39m\u001b[38;5;124m'\u001b[39m] \u001b[38;5;241m+\u001b[39m \u001b[38;5;124m'\u001b[39m\u001b[38;5;124m \u001b[39m\u001b[38;5;124m'\u001b[39m \u001b[38;5;241m+\u001b[39m clientData[\u001b[38;5;124m'\u001b[39m\u001b[38;5;124mlastname\u001b[39m\u001b[38;5;124m'\u001b[39m], \u001b[38;5;124m'\u001b[39m\u001b[38;5;124mis an indigine of\u001b[39m\u001b[38;5;124m'\u001b[39m, clientData[\u001b[38;5;124m'\u001b[39m\u001b[38;5;124mSTO\u001b[39m\u001b[38;5;124m'\u001b[39m], clientData[\u001b[38;5;124m'\u001b[39m\u001b[38;5;124mcountry\u001b[39m\u001b[38;5;124m'\u001b[39m],\u001b[38;5;124m'\u001b[39m\u001b[38;5;124m. He is\u001b[39m\u001b[38;5;124m'\u001b[39m, clientData[\u001b[38;5;124m'\u001b[39m\u001b[38;5;124mage\u001b[39m\u001b[38;5;124m'\u001b[39m], \u001b[38;5;124m'\u001b[39m\u001b[38;5;124myears old, born on\u001b[39m\u001b[38;5;124m'\u001b[39m, clientData[\u001b[38;5;124m'\u001b[39m\u001b[38;5;124mDOB\u001b[39m\u001b[38;5;124m'\u001b[39m])\n",
      "\u001b[1;31mKeyError\u001b[0m: 'FirstName'"
     ]
    }
   ],
   "source": [
    "clientData = {\n",
    "    'FirstNAme' : \"Abiola\",\n",
    "    'lastName' : \"Lukmon\",\n",
    "    'age' : 45,\n",
    "    'STO' : 'ogun',\n",
    "    'country' : 'Nigeria',\n",
    "    'dob' : '25-06-1992'\n",
    "}\n",
    "\n",
    "print(clientData['FirstName'] + ' ' + clientData['lastname'], 'is an indigine of', clientData['STO'], clientData['country'],'. He is', clientData['age'], 'years old, born on', clientData['DOB'])\n"
   ]
  },
  {
   "cell_type": "code",
   "execution_count": 14,
   "metadata": {},
   "outputs": [
    {
     "ename": "KeyError",
     "evalue": "'country'",
     "output_type": "error",
     "traceback": [
      "\u001b[1;31m---------------------------------------------------------------------------\u001b[0m",
      "\u001b[1;31mKeyError\u001b[0m                                  Traceback (most recent call last)",
      "Cell \u001b[1;32mIn[14], line 9\u001b[0m\n\u001b[0;32m      1\u001b[0m clientData \u001b[38;5;241m=\u001b[39m{\n\u001b[0;32m      2\u001b[0m     \u001b[38;5;124m\"\u001b[39m\u001b[38;5;124mFirstName\u001b[39m\u001b[38;5;124m\"\u001b[39m : \u001b[38;5;124m'\u001b[39m\u001b[38;5;124mLukmon\u001b[39m\u001b[38;5;124m'\u001b[39m,\n\u001b[0;32m      3\u001b[0m     \u001b[38;5;124m'\u001b[39m\u001b[38;5;124mlastname\u001b[39m\u001b[38;5;124m'\u001b[39m : \u001b[38;5;124m'\u001b[39m\u001b[38;5;124mAboila\u001b[39m\u001b[38;5;124m'\u001b[39m,\n\u001b[1;32m   (...)\u001b[0m\n\u001b[0;32m      6\u001b[0m     \u001b[38;5;124m'\u001b[39m\u001b[38;5;124mDOB\u001b[39m\u001b[38;5;124m'\u001b[39m : \u001b[38;5;124m'\u001b[39m\u001b[38;5;124m12-01-1979\u001b[39m\u001b[38;5;124m'\u001b[39m\n\u001b[0;32m      7\u001b[0m }\n\u001b[1;32m----> 9\u001b[0m \u001b[38;5;28mprint\u001b[39m(clientData[\u001b[38;5;124m'\u001b[39m\u001b[38;5;124mlastname\u001b[39m\u001b[38;5;124m'\u001b[39m], clientData[\u001b[38;5;124m'\u001b[39m\u001b[38;5;124mFirstName\u001b[39m\u001b[38;5;124m'\u001b[39m], \u001b[38;5;124m'\u001b[39m\u001b[38;5;124mis an indigine of\u001b[39m\u001b[38;5;124m'\u001b[39m, clientData[\u001b[38;5;124m'\u001b[39m\u001b[38;5;124mSTO\u001b[39m\u001b[38;5;124m'\u001b[39m], clientData[\u001b[38;5;124m'\u001b[39m\u001b[38;5;124mcountry\u001b[39m\u001b[38;5;124m'\u001b[39m],\u001b[38;5;124m'\u001b[39m\u001b[38;5;124m. He is\u001b[39m\u001b[38;5;124m'\u001b[39m, clientData[\u001b[38;5;124m'\u001b[39m\u001b[38;5;124mage\u001b[39m\u001b[38;5;124m'\u001b[39m], \u001b[38;5;124m'\u001b[39m\u001b[38;5;124myears old, born on\u001b[39m\u001b[38;5;124m'\u001b[39m, clientData[\u001b[38;5;124m'\u001b[39m\u001b[38;5;124mDOB\u001b[39m\u001b[38;5;124m'\u001b[39m])\n",
      "\u001b[1;31mKeyError\u001b[0m: 'country'"
     ]
    }
   ],
   "source": [
    "clientData ={\n",
    "    \"FirstName\" : 'Lukmon',\n",
    "    'lastname' : 'Aboila',\n",
    "    'STO' : 'ogun state',\n",
    "    'age' : 45,\n",
    "    'DOB' : '12-01-1979'\n",
    "}\n",
    "\n",
    "print(clientData['lastname'], clientData['FirstName'], 'is an indigine of', clientData['STO'], clientData['country'],'. He is', clientData['age'], 'years old, born on', clientData['DOB'])"
   ]
  },
  {
   "cell_type": "code",
   "execution_count": 15,
   "metadata": {},
   "outputs": [
    {
     "data": {
      "text/plain": [
       "dict_keys(['FirstName', 'lastname', 'STO', 'age', 'DOB'])"
      ]
     },
     "execution_count": 15,
     "metadata": {},
     "output_type": "execute_result"
    }
   ],
   "source": [
    "clientData.keys()"
   ]
  },
  {
   "cell_type": "code",
   "execution_count": 16,
   "metadata": {},
   "outputs": [
    {
     "data": {
      "text/plain": [
       "dict_values(['Lukmon', 'Aboila', 'ogun state', 45, '12-01-1979'])"
      ]
     },
     "execution_count": 16,
     "metadata": {},
     "output_type": "execute_result"
    }
   ],
   "source": [
    "clientData.values()\n"
   ]
  },
  {
   "cell_type": "code",
   "execution_count": 17,
   "metadata": {},
   "outputs": [
    {
     "data": {
      "text/plain": [
       "dict_items([('FirstName', 'Lukmon'), ('lastname', 'Aboila'), ('STO', 'ogun state'), ('age', 45), ('DOB', '12-01-1979')])"
      ]
     },
     "execution_count": 17,
     "metadata": {},
     "output_type": "execute_result"
    }
   ],
   "source": [
    "clientData.items()"
   ]
  },
  {
   "cell_type": "code",
   "execution_count": 18,
   "metadata": {},
   "outputs": [
    {
     "name": "stdout",
     "output_type": "stream",
     "text": [
      "Aboila\n"
     ]
    }
   ],
   "source": [
    "print(clientData.get('lastname', 'unknown'))"
   ]
  },
  {
   "cell_type": "code",
   "execution_count": 24,
   "metadata": {},
   "outputs": [
    {
     "ename": "SyntaxError",
     "evalue": "invalid syntax. Perhaps you forgot a comma? (457172268.py, line 4)",
     "output_type": "error",
     "traceback": [
      "\u001b[1;36m  Cell \u001b[1;32mIn[24], line 4\u001b[1;36m\u001b[0m\n\u001b[1;33m    print(key not found)\u001b[0m\n\u001b[1;37m          ^\u001b[0m\n\u001b[1;31mSyntaxError\u001b[0m\u001b[1;31m:\u001b[0m invalid syntax. Perhaps you forgot a comma?\n"
     ]
    }
   ],
   "source": [
    "try:\n",
    "    print(clientData.pop('village'))\n",
    "except keyerror:\n",
    "    print(key not found)"
   ]
  }
 ],
 "metadata": {
  "kernelspec": {
   "display_name": "Python 3",
   "language": "python",
   "name": "python3"
  },
  "language_info": {
   "codemirror_mode": {
    "name": "ipython",
    "version": 3
   },
   "file_extension": ".py",
   "mimetype": "text/x-python",
   "name": "python",
   "nbconvert_exporter": "python",
   "pygments_lexer": "ipython3",
   "version": "3.11.7"
  }
 },
 "nbformat": 4,
 "nbformat_minor": 2
}

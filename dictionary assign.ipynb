{
 "cells": [
  {
   "cell_type": "code",
   "execution_count": 2,
   "metadata": {},
   "outputs": [
    {
     "name": "stdout",
     "output_type": "stream",
     "text": [
      "dict_values(['john', 22, 'mathcompsci', 'A'])\n"
     ]
    }
   ],
   "source": [
    "my_dict = {\n",
    "\"name\": \"john\", \n",
    "\"age\": 21,\n",
    "\"course\": \"math\" \"compsci\"\n",
    "    }\n",
    "values = my_dict.values()\n",
    "\n",
    "my_dict[\"grade\"] = \"A\"\n",
    "my_dict[\"age\"] = 22\n",
    "\n",
    "print(values)\n",
    "\n"
   ]
  },
  {
   "cell_type": "code",
   "execution_count": 2,
   "metadata": {},
   "outputs": [
    {
     "name": "stdout",
     "output_type": "stream",
     "text": [
      "dict_keys(['name', 'age', 'course'])\n"
     ]
    }
   ],
   "source": [
    "my_dict = {\n",
    "\"name\": \"john\", \n",
    "\"age\": 21,\n",
    "\"course\": \"math\" \"compsci\"\n",
    "}\n",
    "keys = my_dict.keys()\n",
    "print(keys)"
   ]
  },
  {
   "cell_type": "code",
   "execution_count": 3,
   "metadata": {},
   "outputs": [
    {
     "name": "stdout",
     "output_type": "stream",
     "text": [
      "{'name': 'john', 'age': 22, 'course': 'mathcompsci', 'grade': 'A'}\n"
     ]
    }
   ],
   "source": [
    "my_dict = {\n",
    "\"name\": \"john\", \n",
    "\"age\": 21,\n",
    "\"course\": \"math\" \"compsci\"\n",
    "}\n",
    "name = my_dict[\"name\"]\n",
    "\n",
    "my_dict[\"grade\"] = \"A\"\n",
    "my_dict[\"age\"] = 22\n",
    "\n",
    "print(my_dict)"
   ]
  },
  {
   "cell_type": "code",
   "execution_count": 4,
   "metadata": {},
   "outputs": [
    {
     "name": "stdout",
     "output_type": "stream",
     "text": [
      "10\n"
     ]
    }
   ],
   "source": [
    "my_dict = {\n",
    "\"apples\":10,\n",
    "\"bananas\":5,\n",
    "\"oranges\":8\n",
    "}\n",
    "apples = my_dict.get(\"apples\", \"unknown\")\n",
    "print(apples)"
   ]
  },
  {
   "cell_type": "code",
   "execution_count": 5,
   "metadata": {},
   "outputs": [
    {
     "name": "stdout",
     "output_type": "stream",
     "text": [
      "5\n"
     ]
    }
   ],
   "source": [
    "my_dict = {\n",
    "\"apples\":10,\n",
    "\"bananas\":5,\n",
    "\"oranges\":8\n",
    "}\n",
    "bananas = my_dict.pop(\"bananas\", \"unknown\")\n",
    "print(bananas)"
   ]
  },
  {
   "cell_type": "code",
   "execution_count": null,
   "metadata": {},
   "outputs": [],
   "source": [
    "my_dict = {\n",
    "\"apples\":10,\n",
    "\"bananas\":5,\n",
    "\"oranges\":8\n",
    "}\n",
    "keys = my_dict.keys()\n",
    "print(keys)"
   ]
  },
  {
   "cell_type": "code",
   "execution_count": 6,
   "metadata": {},
   "outputs": [
    {
     "name": "stdout",
     "output_type": "stream",
     "text": [
      "dict_values([10, 5, 8])\n"
     ]
    }
   ],
   "source": [
    "my_dict = {\n",
    "\"apples\":10,\n",
    "\"bananas\":5,\n",
    "\"oranges\":8\n",
    "}\n",
    "values = my_dict.values()\n",
    "print(values)"
   ]
  },
  {
   "cell_type": "code",
   "execution_count": 7,
   "metadata": {},
   "outputs": [
    {
     "ename": "TypeError",
     "evalue": "'tuple' object does not support item assignment",
     "output_type": "error",
     "traceback": [
      "\u001b[1;31m---------------------------------------------------------------------------\u001b[0m",
      "\u001b[1;31mTypeError\u001b[0m                                 Traceback (most recent call last)",
      "Cell \u001b[1;32mIn[7], line 2\u001b[0m\n\u001b[0;32m      1\u001b[0m my_dict \u001b[38;5;241m=\u001b[39m {\u001b[38;5;124m\"\u001b[39m\u001b[38;5;124mstudent1\u001b[39m\u001b[38;5;124m\"\u001b[39m: {\u001b[38;5;124m\"\u001b[39m\u001b[38;5;124mname\u001b[39m\u001b[38;5;124m\"\u001b[39m: \u001b[38;5;124m\"\u001b[39m\u001b[38;5;124malice\u001b[39m\u001b[38;5;124m\"\u001b[39m, \u001b[38;5;124m\"\u001b[39m\u001b[38;5;124mage\u001b[39m\u001b[38;5;124m\"\u001b[39m: \u001b[38;5;241m20\u001b[39m}}, {\u001b[38;5;124m\"\u001b[39m\u001b[38;5;124mstudent2\u001b[39m\u001b[38;5;124m\"\u001b[39m: {\u001b[38;5;124m\"\u001b[39m\u001b[38;5;124mname\u001b[39m\u001b[38;5;124m\"\u001b[39m: \u001b[38;5;124m\"\u001b[39m\u001b[38;5;124mbob\u001b[39m\u001b[38;5;124m\"\u001b[39m, \u001b[38;5;124m\"\u001b[39m\u001b[38;5;124mage\u001b[39m\u001b[38;5;124m\"\u001b[39m: \u001b[38;5;241m22\u001b[39m}}\n\u001b[1;32m----> 2\u001b[0m my_dict[\u001b[38;5;124m\"\u001b[39m\u001b[38;5;124mstudent3\u001b[39m\u001b[38;5;124m\"\u001b[39m:] \u001b[38;5;241m=\u001b[39m {\u001b[38;5;124m\"\u001b[39m\u001b[38;5;124mname\u001b[39m\u001b[38;5;124m\"\u001b[39m: \u001b[38;5;124m\"\u001b[39m\u001b[38;5;124mchalie\u001b[39m\u001b[38;5;124m\"\u001b[39m,\u001b[38;5;124m'\u001b[39m\u001b[38;5;124mage\u001b[39m\u001b[38;5;124m'\u001b[39m: \u001b[38;5;241m23\u001b[39m}\n",
      "\u001b[1;31mTypeError\u001b[0m: 'tuple' object does not support item assignment"
     ]
    }
   ],
   "source": [
    "my_dict = {\"student1\": {\"name\": \"alice\", \"age\": 20}}, {\"student2\": {\"name\": \"bob\", \"age\": 22}}\n",
    "my_dict[\"student3\":] = {\"name\": \"chalie\",'age': 23}"
   ]
  },
  {
   "cell_type": "code",
   "execution_count": 8,
   "metadata": {},
   "outputs": [
    {
     "name": "stdout",
     "output_type": "stream",
     "text": [
      "({'student1': {'name': 'alice', 'age': 20}}, {'student2': {'name': 'bob', 'age': 22}})\n"
     ]
    }
   ],
   "source": [
    "my_dict = {\"student1\": {\"name\": \"alice\", \"age\": 20}}, {\"student2\": {\"name\": \"bob\", \"age\": 22}}\n",
    "print(my_dict)"
   ]
  },
  {
   "cell_type": "markdown",
   "metadata": {},
   "source": []
  }
 ],
 "metadata": {
  "kernelspec": {
   "display_name": "base",
   "language": "python",
   "name": "python3"
  },
  "language_info": {
   "codemirror_mode": {
    "name": "ipython",
    "version": 3
   },
   "file_extension": ".py",
   "mimetype": "text/x-python",
   "name": "python",
   "nbconvert_exporter": "python",
   "pygments_lexer": "ipython3",
   "version": "3.11.7"
  }
 },
 "nbformat": 4,
 "nbformat_minor": 2
}

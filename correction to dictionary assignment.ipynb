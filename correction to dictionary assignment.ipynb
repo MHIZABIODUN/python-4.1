{
 "cells": [
  {
   "cell_type": "code",
   "execution_count": 1,
   "metadata": {},
   "outputs": [],
   "source": [
    "student = {\n",
    "    'name' : 'john',\n",
    "    'age': 21,\n",
    "    'course' : ['math' , \"compsci\"],\n",
    "}"
   ]
  },
  {
   "cell_type": "code",
   "execution_count": 6,
   "metadata": {},
   "outputs": [
    {
     "name": "stdout",
     "output_type": "stream",
     "text": [
      "the price of apple is 0.5\n",
      "the price of banana is 0.3\n",
      "the price of orange is 0.7\n"
     ]
    }
   ],
   "source": [
    "prices = {'apple' : 0.5,\n",
    "'banana' : 0.3, \n",
    "'orange': 0.7\n",
    "}\n",
    "\n",
    "for item in prices:\n",
    "    print('the price of', item, 'is', prices.get(item))"
   ]
  },
  {
   "cell_type": "code",
   "execution_count": 8,
   "metadata": {},
   "outputs": [
    {
     "name": "stdout",
     "output_type": "stream",
     "text": [
      "{'name': 'dave', 'city': 'newyork', 'age': 30}\n"
     ]
    }
   ],
   "source": [
    "person = {\n",
    "    'name' : 'dave',\n",
    "    'city' : 'newyork'\n",
    "}\n",
    "\n",
    "# print(person.keys())\n",
    "if 'age' in person.keys():\n",
    "    print(\"yes\")\n",
    "else:\n",
    "    person['age'] = 30\n",
    "    \n",
    "print(person)"
   ]
  }
 ],
 "metadata": {
  "kernelspec": {
   "display_name": "base",
   "language": "python",
   "name": "python3"
  },
  "language_info": {
   "codemirror_mode": {
    "name": "ipython",
    "version": 3
   },
   "file_extension": ".py",
   "mimetype": "text/x-python",
   "name": "python",
   "nbconvert_exporter": "python",
   "pygments_lexer": "ipython3",
   "version": "3.11.7"
  }
 },
 "nbformat": 4,
 "nbformat_minor": 2
}

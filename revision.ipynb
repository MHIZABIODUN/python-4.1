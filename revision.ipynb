{
 "cells": [
  {
   "cell_type": "code",
   "execution_count": null,
   "metadata": {},
   "outputs": [],
   "source": [
    "#int are numbers\n",
    "example\n",
    "45\n",
    "5\n",
    "10\n",
    "12\n",
    "#float\n",
    "5.6\n",
    "8.7\n",
    "# string\n",
    "\"jafar\"\n",
    "'cow'\n",
    "'ileya'\n",
    "#list\n",
    "[3, 5, 6.7[6,7]]\n",
    "#tuple\n",
    "(3, 4, 5)\n",
    "#Boolean\n",
    "true and False\n",
    "#dict\n",
    "{\n",
    "    'name' : jafar\n",
    "    'age' : 25\n",
    "}"
   ]
  },
  {
   "cell_type": "code",
   "execution_count": null,
   "metadata": {},
   "outputs": [],
   "source": []
  }
 ],
 "metadata": {
  "kernelspec": {
   "display_name": "base",
   "language": "python",
   "name": "python3"
  },
  "language_info": {
   "codemirror_mode": {
    "name": "ipython",
    "version": 3
   },
   "file_extension": ".py",
   "mimetype": "text/x-python",
   "name": "python",
   "nbconvert_exporter": "python",
   "pygments_lexer": "ipython3",
   "version": "3.11.7"
  }
 },
 "nbformat": 4,
 "nbformat_minor": 2
}
